{
 "cells": [
  {
   "cell_type": "markdown",
   "metadata": {
    "colab_type": "text",
    "id": "OZI6TD_XO5p9"
   },
   "source": [
    "# Homework 1: Classifiers"
   ]
  },
  {
   "cell_type": "markdown",
   "metadata": {
    "colab_type": "text",
    "id": "S4jwe7FoOMU2"
   },
   "source": [
    "# Linear Support Vector Machine (SVM) classifier\n",
    "\n",
    "In this exercise you will:\n",
    "    \n",
    "- implement a fully-vectorized **loss function** for the SVM\n",
    "- implement the fully-vectorized expression for its **analytic gradient**\n",
    "- **check your implementation** using numerical gradient\n",
    "- use a validation set to **tune the learning rate and regularization** strength\n",
    "- **optimize** the loss function with **SGD**\n",
    "- **visualize** the final learned weights\n"
   ]
  },
  {
   "cell_type": "code",
   "execution_count": 1,
   "metadata": {
    "colab": {
     "base_uri": "https://localhost:8080/",
     "height": 71
    },
    "colab_type": "code",
    "id": "iCXYH6i5OMU3",
    "outputId": "e4573c0a-d1a1-4c12-f906-ebaf0e16690a"
   },
   "outputs": [
    {
     "name": "stderr",
     "output_type": "stream",
     "text": [
      "/usr/local/lib/python3.6/dist-packages/statsmodels/tools/_testing.py:19: FutureWarning: pandas.util.testing is deprecated. Use the functions in the public API at pandas.testing instead.\n",
      "  import pandas.util.testing as tm\n"
     ]
    }
   ],
   "source": [
    "import numpy as np\n",
    "import matplotlib.pyplot as plt\n",
    "import seaborn as sns\n",
    "\n",
    "sns.set()"
   ]
  },
  {
   "cell_type": "markdown",
   "metadata": {
    "colab_type": "text",
    "id": "awwU3lohOMU7"
   },
   "source": [
    "## Load and preprocess CIFAR-10 dataset"
   ]
  },
  {
   "cell_type": "code",
   "execution_count": 2,
   "metadata": {
    "colab": {
     "base_uri": "https://localhost:8080/",
     "height": 153
    },
    "colab_type": "code",
    "id": "id2N67NsPfm4",
    "outputId": "c1586353-f6d5-4690-b93b-61553031ed24"
   },
   "outputs": [
    {
     "name": "stdout",
     "output_type": "stream",
     "text": [
      "Train data shape:  (49000, 3073)\n",
      "Train labels shape:  (49000,)\n",
      "Validation data shape:  (1000, 3073)\n",
      "Validation labels shape:  (1000,)\n",
      "Test data shape:  (1000, 3073)\n",
      "Test labels shape:  (1000,)\n",
      "dev data shape:  (500, 3073)\n",
      "dev labels shape:  (500,)\n"
     ]
    }
   ],
   "source": [
    "from keras.datasets import cifar10\n",
    "\n",
    "def get_CIFAR10_data(num_training=49000, num_validation=1000,\n",
    "                     num_test=1000, num_dev=500):\n",
    "    \"\"\"\n",
    "    Load the CIFAR-10 dataset from disk and perform preprocessing to prepare\n",
    "    it for the linear classifier. These are the same steps as we used for the\n",
    "    SVM, but condensed to a single function.  \n",
    "    \"\"\"\n",
    "    # Load the raw CIFAR-10 data\n",
    "    (X_train, y_train), (X_test, y_test) = cifar10.load_data()\n",
    "    \n",
    "    # All the data comes in the uint8 format, so we need to convert\n",
    "    # it to floats so that we compute numbers greater than 255.\n",
    "    X_train = X_train.astype(np.float)\n",
    "    X_test = X_test.astype(np.float)\n",
    "    # Also, for convenience we flatten the class arrays.\n",
    "    y_train = y_train.flatten()\n",
    "    y_test = y_test.flatten()\n",
    "    \n",
    "    # Split the data into train, val, and test sets. In addition we will\n",
    "    # create a small development set as a subset of the training data;\n",
    "    # we can use this for development so our code runs faster.\n",
    "    \n",
    "    # Our validation set will be num_validation points from the original\n",
    "    # training set.\n",
    "    mask = list(range(num_training, num_training + num_validation))\n",
    "    X_val = X_train[mask]\n",
    "    y_val = y_train[mask]\n",
    "    \n",
    "    # Our training set will be the first num_train points from the original\n",
    "    # training set.\n",
    "    mask = list(range(num_training))\n",
    "    X_train = X_train[mask]\n",
    "    y_train = y_train[mask]\n",
    "    \n",
    "    # We will also make a development set, which is a small subset of\n",
    "    # the training set.\n",
    "    mask = np.random.choice(num_training, num_dev, replace=False)\n",
    "    X_dev = X_train[mask]\n",
    "    y_dev = y_train[mask]\n",
    "    \n",
    "    # We use the first num_test points of the original test set as our\n",
    "    # test set.\n",
    "    mask = list(range(num_test))\n",
    "    X_test = X_test[mask]\n",
    "    y_test = y_test[mask]\n",
    "    \n",
    "    # Preprocessing: reshape the image data into rows\n",
    "    X_train = np.reshape(X_train, (X_train.shape[0], -1))\n",
    "    X_val = np.reshape(X_val, (X_val.shape[0], -1))\n",
    "    X_test = np.reshape(X_test, (X_test.shape[0], -1))\n",
    "    X_dev = np.reshape(X_dev, (X_dev.shape[0], -1))\n",
    "    \n",
    "    # Normalize the data: subtract the mean image\n",
    "    mean_image = np.mean(X_train, axis = 0)\n",
    "    X_train -= mean_image\n",
    "    X_val -= mean_image\n",
    "    X_test -= mean_image\n",
    "    X_dev -= mean_image\n",
    "    \n",
    "    # third: append the bias dimension of ones (i.e. bias trick) so that our SVM\n",
    "    # only has to worry about optimizing a single weight matrix W.\n",
    "    X_train = np.hstack([X_train, np.ones((X_train.shape[0], 1))])\n",
    "    X_val = np.hstack([X_val, np.ones((X_val.shape[0], 1))])\n",
    "    X_test = np.hstack([X_test, np.ones((X_test.shape[0], 1))])\n",
    "    X_dev = np.hstack([X_dev, np.ones((X_dev.shape[0], 1))])\n",
    "    \n",
    "    return X_train, y_train, X_val, y_val, X_test, y_test, X_dev, y_dev\n",
    "\n",
    "\n",
    "# Invoke the above function to get our data.\n",
    "X_train, y_train, X_val, y_val, X_test, y_test, X_dev, y_dev = get_CIFAR10_data()\n",
    "print('Train data shape: ', X_train.shape)\n",
    "print('Train labels shape: ', y_train.shape)\n",
    "print('Validation data shape: ', X_val.shape)\n",
    "print('Validation labels shape: ', y_val.shape)\n",
    "print('Test data shape: ', X_test.shape)\n",
    "print('Test labels shape: ', y_test.shape)\n",
    "print('dev data shape: ', X_dev.shape)\n",
    "print('dev labels shape: ', y_dev.shape)"
   ]
  },
  {
   "cell_type": "markdown",
   "metadata": {
    "colab_type": "text",
    "id": "WsA0GJvKOMVR"
   },
   "source": [
    "## Define a naive SVM classifier loss function\n",
    "\n",
    "Next we define the SVM loss function.  This will be a naive implementation using loops.  Most of the code for this loss function already exists, but you will need to write code of your own to finish it.  Follow the instructions in the TODO section.\n",
    "\n",
    "Recall that the contribution of a training point $(x_i, y_i)$ to the SVM loss function is\n",
    "\n",
    "$$L_i = \\sum_{j \\neq y_i} \\max(0, s_j− s_{y_i} + \\Delta)$$\n",
    "\n",
    "where $\\Delta$ is the *margin*.  The loss function encourages the score $s_{y_i}$ of the correct class $y_i$ to be larger than any of the other scores $s_j$ by at least the margin $\\Delta$.  The score $s$ is parametrized by\n",
    "a linear function $s_j = xW_j$ where $x$ is a single data sample and $W_j$ is the $j$th column of $W$.\n",
    "\n",
    "![margin](http://cs231n.github.io/assets/margin.jpg)"
   ]
  },
  {
   "cell_type": "code",
   "execution_count": 3,
   "metadata": {
    "colab": {},
    "colab_type": "code",
    "id": "mGC3rwO7TTY3"
   },
   "outputs": [],
   "source": [
    "def svm_loss_naive(W, X, y, reg):\n",
    "  \"\"\"\n",
    "  Structured SVM loss function, naive implementation (with loops).\n",
    "\n",
    "  Inputs have dimension D, there are C classes, and we operate on minibatches\n",
    "  of N examples.\n",
    "\n",
    "  Inputs:\n",
    "  - W: A numpy array of shape (D, C) containing weights.\n",
    "  - X: A numpy array of shape (N, D) containing a minibatch of data.\n",
    "  - y: A numpy array of shape (N,) containing training labels; y[i] = c means\n",
    "    that X[i] has label c, where 0 <= c < C.\n",
    "  - reg: (float) regularization strength\n",
    "\n",
    "  Returns a tuple of:\n",
    "  - loss as single float\n",
    "  - gradient with respect to weights W; an array of same shape as W\n",
    "  \"\"\"\n",
    "  dW = np.zeros(W.shape) # initialize the gradient as zero\n",
    "\n",
    "  # compute the loss and the gradient\n",
    "  num_classes = W.shape[1]\n",
    "  num_train = X.shape[0]\n",
    "  loss = 0.0\n",
    "  for i in range(num_train):\n",
    "    scores = X[i].dot(W)\n",
    "    correct_class_score = scores[y[i]]\n",
    "    for j in range(num_classes):\n",
    "      if j == y[i]:\n",
    "        continue\n",
    "      margin = scores[j] - correct_class_score + 1 # note delta = 1\n",
    "      if margin > 0:\n",
    "        loss += margin\n",
    "        dW[:, y[i]] -= X[i, :]\n",
    "        dW[:, j] += X[i, :]\n",
    "\n",
    "  # Right now the loss is a sum over all training examples, but we want it\n",
    "  # to be an average instead so we divide by num_train.\n",
    "  loss /= num_train\n",
    "  dW /= num_train\n",
    "\n",
    "  # Add regularization to the loss.\n",
    "  loss += reg * np.sum(W * W)\n",
    "  dW += reg * W\n",
    "\n",
    "  #############################################################################\n",
    "  # TODO:                                                                     #\n",
    "  # Compute the gradient of the loss function and store it dW.                #\n",
    "  # Rather than first computing the loss and then computing the derivative,   #\n",
    "  # it may be simpler to compute the derivative at the same time that the     #\n",
    "  # loss is being computed. As a result you may need to modify some of the    #\n",
    "  # code above to compute the gradient.                                       #\n",
    "  #############################################################################\n",
    "\n",
    "\n",
    "  return loss, dW"
   ]
  },
  {
   "cell_type": "code",
   "execution_count": 4,
   "metadata": {
    "colab": {
     "base_uri": "https://localhost:8080/",
     "height": 34
    },
    "colab_type": "code",
    "id": "2t9nwfXJOMVR",
    "outputId": "b3485d86-db8e-4999-e338-f9441a0683bf"
   },
   "outputs": [
    {
     "name": "stdout",
     "output_type": "stream",
     "text": [
      "loss: 9.018758\n"
     ]
    }
   ],
   "source": [
    "# Evaluate the naive implementation of the SVM loss\n",
    "import time\n",
    "\n",
    "# generate a random SVM weight matrix of small numbers\n",
    "W = np.random.randn(3073, 10) * 0.0001 \n",
    "\n",
    "loss, grad = svm_loss_naive(W, X_dev, y_dev, 0.000005)\n",
    "print('loss: %f' % (loss, ))"
   ]
  },
  {
   "cell_type": "markdown",
   "metadata": {
    "colab_type": "text",
    "id": "bz8dvNLdOMVW"
   },
   "source": [
    "To check that you have implemented the gradient correctly, you can numerically estimate the gradient of the loss function and compare the numeric estimate to the gradient that you computed. We have provided code that does this for you:"
   ]
  },
  {
   "cell_type": "code",
   "execution_count": 5,
   "metadata": {
    "colab": {
     "base_uri": "https://localhost:8080/",
     "height": 357
    },
    "colab_type": "code",
    "id": "6YBaXemDVM_s",
    "outputId": "4f0d741e-dbd1-41c4-cc52-7148fab657b9"
   },
   "outputs": [
    {
     "name": "stdout",
     "output_type": "stream",
     "text": [
      "numerical: 10.443026 analytic: 10.443026, relative error: 2.126520e-11\n",
      "numerical: -16.817347 analytic: -16.817347, relative error: 2.513508e-11\n",
      "numerical: 12.258809 analytic: 12.258809, relative error: 4.984868e-11\n",
      "numerical: -44.448482 analytic: -44.448482, relative error: 7.604825e-12\n",
      "numerical: 6.287537 analytic: 6.287537, relative error: 1.990257e-11\n",
      "numerical: 3.645606 analytic: 3.645606, relative error: 1.704482e-10\n",
      "numerical: -6.959880 analytic: -6.959880, relative error: 7.935928e-11\n",
      "numerical: -32.015300 analytic: -32.015300, relative error: 6.596900e-12\n",
      "numerical: 5.753457 analytic: 5.753457, relative error: 1.035140e-11\n",
      "numerical: -19.231645 analytic: -19.231645, relative error: 8.854608e-12\n",
      "numerical: 36.852172 analytic: 36.859600, relative error: 1.007651e-04\n",
      "numerical: 13.404117 analytic: 13.411254, relative error: 2.661686e-04\n",
      "numerical: -13.219437 analytic: -13.216154, relative error: 1.241723e-04\n",
      "numerical: -18.511366 analytic: -18.513470, relative error: 5.683785e-05\n",
      "numerical: -0.150047 analytic: -0.148321, relative error: 5.785893e-03\n",
      "numerical: -5.425299 analytic: -5.423066, relative error: 2.058486e-04\n",
      "numerical: -10.713188 analytic: -10.715300, relative error: 9.854330e-05\n",
      "numerical: 1.071386 analytic: 1.064246, relative error: 3.343260e-03\n",
      "numerical: 15.854336 analytic: 15.852693, relative error: 5.181657e-05\n",
      "numerical: 5.356784 analytic: 5.352975, relative error: 3.556614e-04\n"
     ]
    }
   ],
   "source": [
    "def grad_check_sparse(f, x, analytic_grad, num_checks=10, h=1e-5):\n",
    "  \"\"\"\n",
    "  sample a few random elements and only return numerical\n",
    "  in this dimensions.\n",
    "  \"\"\"\n",
    "\n",
    "  for i in range(num_checks):\n",
    "    ix = tuple([np.random.randint(m) for m in x.shape])\n",
    "    oldval = x[ix]\n",
    "    x[ix] = oldval + h # increment by h\n",
    "    fxph = f(x) # evaluate f(x + h)\n",
    "    x[ix] = oldval - h # increment by h\n",
    "    fxmh = f(x) # evaluate f(x - h)\n",
    "    x[ix] = oldval # reset\n",
    "\n",
    "    grad_numerical = (fxph - fxmh) / (2 * h)\n",
    "    grad_analytic = analytic_grad[ix]\n",
    "    rel_error = abs(grad_numerical - grad_analytic) / (abs(grad_numerical) + abs(grad_analytic))\n",
    "    print('numerical: %f analytic: %f, relative error: %e' % (grad_numerical, grad_analytic, rel_error))\n",
    "    \n",
    "# Once you've implemented the gradient, recompute it with the code below\n",
    "# and gradient check it with the function we provided for you\n",
    "\n",
    "# Compute the loss and its gradient at W.\n",
    "loss, grad = svm_loss_naive(W, X_dev, y_dev, 0.0)\n",
    "\n",
    "# Numerically compute the gradient along several randomly chosen dimensions, and\n",
    "# compare them with your analytically computed gradient. The numbers should match\n",
    "# almost exactly along all dimensions.\n",
    "f = lambda w: svm_loss_naive(w, X_dev, y_dev, 0.0)[0]\n",
    "grad_numerical = grad_check_sparse(f, W, grad)\n",
    "\n",
    "# do the gradient check once again with regularization turned on\n",
    "# you didn't forget the regularization gradient did you?\n",
    "loss, grad = svm_loss_naive(W, X_dev, y_dev, 5e1)\n",
    "f = lambda w: svm_loss_naive(w, X_dev, y_dev, 5e1)[0]\n",
    "grad_numerical = grad_check_sparse(f, W, grad)"
   ]
  },
  {
   "cell_type": "markdown",
   "metadata": {
    "colab_type": "text",
    "id": "Hvd_VaMEOMVa"
   },
   "source": [
    "### Inline Question 1:\n",
    "It is possible that once in a while a value in the gradcheck will not match exactly. What could such a discrepancy be caused by? Is it a reason for concern? What is a simple example in one dimension where a gradient check could fail? *Hint: the SVM loss function is not strictly speaking differentiable*\n",
    "\n",
    "**Your Answer:** It is certainly possible that we could have a discrepancy between the analytical gradient and the numerical gradient. This is because there are points P on the hinge loss function which are not differentiable via the analytic method, but may seem differentiable by approximative analytical methods in neighborhoods of P. For instance in the case of max(0, s_j - s_yi + 1), the term (s_j - s_yi + 1) may be a very small negative close to 0 such that [(s_j - s_yi +1) + h/2] > 0 for some small h. By the analytical method the derivative at such a point would still be 0 since the term is still negative, but by the numerical method the gradient may still appear positive as the iterative approximation approaches 0 from the right with incremental changes of h."
   ]
  },
  {
   "cell_type": "markdown",
   "metadata": {
    "colab_type": "text",
    "id": "o6HmrLW9gad-"
   },
   "source": [
    "## Define a vectorized SVM classifier loss function\n",
    "\n",
    "Next we define the vectorized (i.e. no loops) version of the SVM loss function.  Most of the code for this loss function already exists, but you will need to write code of your own to finish it.  Follow the instructions in the TODO section."
   ]
  },
  {
   "cell_type": "code",
   "execution_count": 6,
   "metadata": {
    "colab": {},
    "colab_type": "code",
    "id": "0f0qcprBTcQ_"
   },
   "outputs": [],
   "source": [
    "def svm_loss_vectorized(W, X, y, reg):\n",
    "  \"\"\"\n",
    "  Structured SVM loss function, vectorized implementation.\n",
    "\n",
    "  Inputs and outputs are the same as svm_loss_naive.\n",
    "  \"\"\"\n",
    "  loss = 0.0\n",
    "  dW = np.zeros(W.shape) # initialize the gradient as zero\n",
    "\n",
    "  #############################################################################\n",
    "  # TODO:                                                                     #\n",
    "  # Implement a vectorized form of the SVM loss, storing the result in loss.  #\n",
    "  #                                                                           #\n",
    "  #############################################################################\n",
    "  # get the number of training examples\n",
    "  num_train = X.shape[0]\n",
    "\n",
    "  # compute all the scores in NxC matrix\n",
    "  scores = X.dot(W)\n",
    "\n",
    "  # from scores matrix, select 0 to N rows and the column of scores for this y\n",
    "  y_i_scores = scores[np.arange(scores.shape[0]), y]\n",
    "\n",
    "  # compute the max(0,x) margins for all columns of the score matrix\n",
    "  ## by subtracting the correct class score from incorrect class scores\n",
    "  ### for every nth example\n",
    "  margins = np.maximum(0, scores - np.matrix(y_i_scores).transpose() + 1)\n",
    "\n",
    "  # now setting the scores to 0 for the correct class so no loss is contributed by correct classS\n",
    "  margins[np.arange(num_train), y] = 0\n",
    "\n",
    "  # now we just sum the elements of the scores matrix to get an array of L_i losses for each class\n",
    "  L_i_losses = np.sum(margins, axis=1)\n",
    "\n",
    "  # then we can take the mean of all these loss summations to get overall loss of weight matrix W\n",
    "  loss = np.mean(L_i_losses)\n",
    "\n",
    "  # finally we can add L2 regularization to the loss just like before\n",
    "  loss += reg * np.sum(np.square(W))\n",
    "  #############################################################################\n",
    "  #                             END OF YOUR CODE                              #\n",
    "  #############################################################################\n",
    "\n",
    "\n",
    "  #############################################################################\n",
    "  # TODO:                                                                     #\n",
    "  # Implement a vectorized version of the gradient for the SVM loss,          #\n",
    "  # storing the result in dW.                                                 #\n",
    "  #                                                                           #\n",
    "  # Hint: Instead of computing the gradient from scratch, it may be easier    #\n",
    "  # to reuse some of the intermediate values that you used to compute the     #\n",
    "  # loss.                                                                     #\n",
    "  #############################################################################\n",
    "  # make copy of margins matrix\n",
    "  bin_margins = margins\n",
    "\n",
    "  # convert the matrix entries with loss > 0 to 1's, all else 0\n",
    "  bin_margins[bin_margins > 0] = 1\n",
    "\n",
    "  # for each row (ie, observation), get the count of loss contributing mislabelings\n",
    "  loss_count = np.sum(bin_margins, axis=1)\n",
    "\n",
    "  # set the y'th column in binary matrix (which is all 0') to the negative counts for loss contributors\n",
    "  ## ie, in each ith row, bin_margins[i, y] = the number of significant mislabelings for observation i\n",
    "  bin_margins[np.arange(num_train), y] = -loss_count.transpose()\n",
    "\n",
    "  # computing the gradient\n",
    "  ## notice bin_margins is just binary 1's and 0's if x_i contributed to loss\n",
    "  ### notice also that dW is of dimension DxC\n",
    "  #### thus every entry in dW is a summation of the x_i's whose d'th dimensional value\n",
    "  ##### contributed to loss for class c\n",
    "\n",
    "  ## ie, dw[d,j] equals the partial derivative of the L_j loss function with respect to d\n",
    "  dW = np.dot(X.transpose(), bin_margins)\n",
    "\n",
    "  # like before compute the average\n",
    "  dW /= num_train\n",
    "\n",
    "  # add regularization\n",
    "  dW += reg * W\n",
    "  #############################################################################\n",
    "  #                             END OF YOUR CODE                              #\n",
    "  #############################################################################\n",
    "\n",
    "  return loss, dW"
   ]
  },
  {
   "cell_type": "code",
   "execution_count": 7,
   "metadata": {
    "colab": {
     "base_uri": "https://localhost:8080/",
     "height": 68
    },
    "colab_type": "code",
    "id": "uwqzu77bOMVb",
    "outputId": "b77d75f1-2ca1-4c14-914b-e7176028976d"
   },
   "outputs": [
    {
     "name": "stdout",
     "output_type": "stream",
     "text": [
      "Naive loss: 9.018758e+00 computed in 0.155972s\n",
      "Vectorized loss: 9.018758e+00 computed in 0.013867s\n",
      "difference: -0.000000\n"
     ]
    }
   ],
   "source": [
    "# Evaluate the naive implementation of the SVM loss\n",
    "tic = time.time()\n",
    "loss_naive, grad_naive = svm_loss_naive(W, X_dev, y_dev, 0.000005)\n",
    "toc = time.time()\n",
    "print('Naive loss: %e computed in %fs' % (loss_naive, toc - tic))\n",
    "\n",
    "# Evaluate the vectorized implementation of the SVM loss\n",
    "tic = time.time()\n",
    "loss_vectorized, _ = svm_loss_vectorized(W, X_dev, y_dev, 0.000005)\n",
    "toc = time.time()\n",
    "print('Vectorized loss: %e computed in %fs' % (loss_vectorized, toc - tic))\n",
    "\n",
    "# The losses should match but your vectorized implementation should be much faster.\n",
    "print('difference: %f' % (loss_naive - loss_vectorized))"
   ]
  },
  {
   "cell_type": "code",
   "execution_count": 8,
   "metadata": {
    "colab": {
     "base_uri": "https://localhost:8080/",
     "height": 68
    },
    "colab_type": "code",
    "id": "TLTsNqnqOMVe",
    "outputId": "a444b3c9-41c4-45c6-96eb-a137c8ab6ee3"
   },
   "outputs": [
    {
     "name": "stdout",
     "output_type": "stream",
     "text": [
      "Naive loss and gradient: computed in 0.160897s\n",
      "Vectorized loss and gradient: computed in 0.009735s\n",
      "difference: 0.000000\n"
     ]
    }
   ],
   "source": [
    "# Evaluate the naive implementation of the SVM gradients\n",
    "\n",
    "# The naive implementation and the vectorized implementation should match, but\n",
    "# the vectorized version should still be much faster.\n",
    "tic = time.time()\n",
    "_, grad_naive = svm_loss_naive(W, X_dev, y_dev, 0.000005)\n",
    "toc = time.time()\n",
    "print('Naive loss and gradient: computed in %fs' % (toc - tic))\n",
    "\n",
    "tic = time.time()\n",
    "_, grad_vectorized = svm_loss_vectorized(W, X_dev, y_dev, 0.000005)\n",
    "toc = time.time()\n",
    "print('Vectorized loss and gradient: computed in %fs' % (toc - tic))\n",
    "\n",
    "# The loss is a single number, so it is easy to compare the values computed\n",
    "# by the two implementations. The gradient on the other hand is a matrix, so\n",
    "# we use the Frobenius norm to compare them.\n",
    "difference = np.linalg.norm(grad_naive - grad_vectorized, ord='fro')\n",
    "print('difference: %f' % difference)"
   ]
  },
  {
   "cell_type": "markdown",
   "metadata": {
    "colab_type": "text",
    "id": "mg7WN3GnOMVi"
   },
   "source": [
    "## Stochastic Gradient Descent\n",
    "\n",
    "We now have vectorized and efficient expressions for the loss, the gradient and our gradient matches the numerical gradient. We are therefore ready to do SGD to minimize the loss.  Follow the instructions in the TODO sections."
   ]
  },
  {
   "cell_type": "code",
   "execution_count": 9,
   "metadata": {
    "colab": {},
    "colab_type": "code",
    "id": "1guPOQKpXnUd"
   },
   "outputs": [],
   "source": [
    "class SVM(object):\n",
    "\n",
    "  def __init__(self):\n",
    "    self.W = None\n",
    "\n",
    "  def train(self, X, y, learning_rate=1e-3, reg=1e-5, num_iters=100,\n",
    "            batch_size=200, verbose=False):\n",
    "    \"\"\"\n",
    "    Train this linear classifier using stochastic gradient descent.\n",
    "\n",
    "    Inputs:\n",
    "    - X: A numpy array of shape (N, D) containing training data; there are N\n",
    "      training samples each of dimension D.\n",
    "    - y: A numpy array of shape (N,) containing training labels; y[i] = c\n",
    "      means that X[i] has label 0 <= c < C for C classes.\n",
    "    - learning_rate: (float) learning rate for optimization.\n",
    "    - reg: (float) regularization strength.\n",
    "    - num_iters: (integer) number of steps to take when optimizing\n",
    "    - batch_size: (integer) number of training examples to use at each step.\n",
    "    - verbose: (boolean) If true, print progress during optimization.\n",
    "\n",
    "    Outputs:\n",
    "    A list containing the value of the loss function at each training iteration.\n",
    "    \"\"\"\n",
    "    num_train, dim = X.shape\n",
    "    num_classes = np.max(y) + 1 # assume y takes values 0...K-1 where K is number of classes\n",
    "    if self.W is None:\n",
    "      # lazily initialize W\n",
    "      self.W = 0.001 * np.random.randn(dim, num_classes)\n",
    "\n",
    "    # Run stochastic gradient descent to optimize W\n",
    "    loss_history = []\n",
    "    for it in range(num_iters):\n",
    "      X_batch = None\n",
    "      y_batch = None\n",
    "\n",
    "      #########################################################################\n",
    "      # TODO:                                                                 #\n",
    "      # Sample batch_size elements from the training data and their           #\n",
    "      # corresponding labels to use in this round of gradient descent.        #\n",
    "      # Store the data in X_batch and their corresponding labels in           #\n",
    "      # y_batch; after sampling X_batch should have shape (dim, batch_size)   #\n",
    "      # and y_batch should have shape (batch_size,)                           #\n",
    "      #                                                                       #\n",
    "      # Hint: Use np.random.choice to generate indices. Sampling with         #\n",
    "      # replacement is faster than sampling without replacement.              #\n",
    "      #########################################################################\n",
    "      indices_batch = np.random.choice(np.arange(num_train), batch_size, replace=False)\n",
    "      X_batch = X[indices_batch, :]\n",
    "      y_batch = y[indices_batch]\n",
    "      #########################################################################\n",
    "      #                       END OF YOUR CODE                                #\n",
    "      #########################################################################\n",
    "\n",
    "      # evaluate loss and gradient\n",
    "      loss, grad = self.loss(X_batch, y_batch, reg)\n",
    "      loss_history.append(loss)\n",
    "\n",
    "      # perform parameter update\n",
    "      #########################################################################\n",
    "      # TODO:                                                                 #\n",
    "      # Update the weights using the gradient and the learning rate.          #\n",
    "      #########################################################################\n",
    "      self.W = self.W - (learning_rate * grad)\n",
    "      #########################################################################\n",
    "      #                       END OF YOUR CODE                                #\n",
    "      #########################################################################\n",
    "\n",
    "      if verbose and it % 100 == 0:\n",
    "        print('iteration %d / %d: loss %f' % (it, num_iters, loss))\n",
    "\n",
    "    return loss_history\n",
    "\n",
    "  def predict(self, X):\n",
    "    \"\"\"\n",
    "    Use the trained weights of this linear classifier to predict labels for\n",
    "    data points.\n",
    "\n",
    "    Inputs:\n",
    "    - X: A numpy array of shape (N, D) containing training data; there are N\n",
    "      training samples each of dimension D.\n",
    "\n",
    "    Returns:\n",
    "    - y_pred: Predicted labels for the data in X. y_pred is a 1-dimensional\n",
    "      array of length N, and each element is an integer giving the predicted\n",
    "      class.\n",
    "    \"\"\"\n",
    "    y_pred = np.zeros(X.shape[0])\n",
    "    ###########################################################################\n",
    "    # TODO:                                                                   #\n",
    "    # Implement this method. Store the predicted labels in y_pred.            #\n",
    "    ###########################################################################\n",
    "    scores = X.dot(self.W)\n",
    "    y_pred = np.argmax(scores, axis=1)\n",
    "    ###########################################################################\n",
    "    #                           END OF YOUR CODE                              #\n",
    "    ###########################################################################\n",
    "    return y_pred\n",
    "  \n",
    "  def loss(self, X_batch, y_batch, reg):\n",
    "    \"\"\"\n",
    "    Compute the loss function and its derivative. \n",
    "    Subclasses will override this.\n",
    "\n",
    "    Inputs:\n",
    "    - X_batch: A numpy array of shape (N, D) containing a minibatch of N\n",
    "      data points; each point has dimension D.\n",
    "    - y_batch: A numpy array of shape (N,) containing labels for the minibatch.\n",
    "    - reg: (float) regularization strength.\n",
    "\n",
    "    Returns: A tuple containing:\n",
    "    - loss as a single float\n",
    "    - gradient with respect to self.W; an array of the same shape as W\n",
    "    \"\"\"\n",
    "    return svm_loss_vectorized(self.W, X_batch, y_batch, reg)"
   ]
  },
  {
   "cell_type": "code",
   "execution_count": 10,
   "metadata": {
    "colab": {
     "base_uri": "https://localhost:8080/",
     "height": 51
    },
    "colab_type": "code",
    "id": "4K4dREd4LmWi",
    "outputId": "42e22921-2caa-4a3e-89ce-d5a54f34f888"
   },
   "outputs": [
    {
     "data": {
      "text/plain": [
       "array([48239, 21505, 36851,   924,  5235,  9254, 10867, 40095, 23577,\n",
       "       48250])"
      ]
     },
     "execution_count": 10,
     "metadata": {
      "tags": []
     },
     "output_type": "execute_result"
    }
   ],
   "source": [
    "np.random.choice(np.arange(X_train.shape[0]), 10,  replace=False)"
   ]
  },
  {
   "cell_type": "code",
   "execution_count": 11,
   "metadata": {
    "colab": {
     "base_uri": "https://localhost:8080/",
     "height": 289
    },
    "colab_type": "code",
    "id": "ZriZodeKOMVj",
    "outputId": "33f50b49-06c6-4978-b634-2791d1da7114"
   },
   "outputs": [
    {
     "name": "stdout",
     "output_type": "stream",
     "text": [
      "iteration 0 / 1500: loss 799.424018\n",
      "iteration 100 / 1500: loss 476.730160\n",
      "iteration 200 / 1500: loss 288.748211\n",
      "iteration 300 / 1500: loss 176.495303\n",
      "iteration 400 / 1500: loss 107.597481\n",
      "iteration 500 / 1500: loss 66.553426\n",
      "iteration 600 / 1500: loss 42.391668\n",
      "iteration 700 / 1500: loss 27.947350\n",
      "iteration 800 / 1500: loss 18.843520\n",
      "iteration 900 / 1500: loss 13.568420\n",
      "iteration 1000 / 1500: loss 10.618828\n",
      "iteration 1100 / 1500: loss 7.984495\n",
      "iteration 1200 / 1500: loss 7.762321\n",
      "iteration 1300 / 1500: loss 6.296768\n",
      "iteration 1400 / 1500: loss 5.924826\n",
      "That took 10.067722s\n"
     ]
    }
   ],
   "source": [
    "# Implement SGD in the function SVM.train() and then run it with the code below.\n",
    "svm = SVM()\n",
    "tic = time.time()\n",
    "loss_hist = svm.train(X_train, y_train, learning_rate=1e-7, reg=2.5e4, num_iters=1500, verbose=True)\n",
    "toc = time.time()\n",
    "print('That took %fs' % (toc - tic))"
   ]
  },
  {
   "cell_type": "code",
   "execution_count": 12,
   "metadata": {
    "colab": {
     "base_uri": "https://localhost:8080/",
     "height": 285
    },
    "colab_type": "code",
    "id": "qIZ965oDOMVn",
    "outputId": "214c0896-f083-4746-a5f2-39a714b711b7"
   },
   "outputs": [
    {
     "data": {
      "image/png": "[encoded data removed]",
      "text/plain": [
       "<Figure size 432x288 with 1 Axes>"
      ]
     },
     "metadata": {
      "needs_background": "light",
      "tags": []
     },
     "output_type": "display_data"
    }
   ],
   "source": [
    "# A useful debugging strategy is to plot the loss as a function of\n",
    "# iteration number:\n",
    "plt.plot(loss_hist)\n",
    "plt.xlabel('Iteration number')\n",
    "plt.ylabel('Loss value')\n",
    "plt.show()"
   ]
  },
  {
   "cell_type": "code",
   "execution_count": 13,
   "metadata": {
    "colab": {
     "base_uri": "https://localhost:8080/",
     "height": 51
    },
    "colab_type": "code",
    "id": "bV-KJB5tOMVr",
    "outputId": "f53fdeb9-69fa-479d-f96b-084f8f12f569"
   },
   "outputs": [
    {
     "name": "stdout",
     "output_type": "stream",
     "text": [
      "training accuracy: 0.099987\n",
      "validation accuracy: 0.101868\n"
     ]
    }
   ],
   "source": [
    "# Write the SVM.predict function and evaluate the performance on both the\n",
    "# training and validation set\n",
    "y_train_pred = svm.predict(X_train)\n",
    "print('training accuracy: %f' % (np.mean(y_train == y_train_pred), ))\n",
    "y_val_pred = svm.predict(X_val)\n",
    "print('validation accuracy: %f' % (np.mean(y_val == y_val_pred), ))"
   ]
  },
  {
   "cell_type": "code",
   "execution_count": 14,
   "metadata": {
    "colab": {
     "base_uri": "https://localhost:8080/",
     "height": 190
    },
    "colab_type": "code",
    "id": "GAhbzTJiOMVu",
    "outputId": "9d97e861-d9b3-4cda-c16d-2c66c448c1e6"
   },
   "outputs": [
    {
     "name": "stderr",
     "output_type": "stream",
     "text": [
      "/usr/local/lib/python3.6/dist-packages/ipykernel_launcher.py:39: RuntimeWarning: overflow encountered in double_scalars\n",
      "/usr/local/lib/python3.6/dist-packages/numpy/core/_methods.py:38: RuntimeWarning: overflow encountered in reduce\n",
      "  return umr_sum(a, axis, dtype, out, keepdims, initial, where)\n",
      "/usr/local/lib/python3.6/dist-packages/ipykernel_launcher.py:39: RuntimeWarning: overflow encountered in square\n"
     ]
    },
    {
     "name": "stdout",
     "output_type": "stream",
     "text": [
      "lr 1.000000e-07 reg 2.500000e+04 train accuracy: 0.099974 val accuracy: 0.102298\n",
      "lr 1.000000e-07 reg 5.000000e+04 train accuracy: 0.099990 val accuracy: 0.101786\n",
      "lr 5.000000e-05 reg 2.500000e+04 train accuracy: 0.099961 val accuracy: 0.102092\n",
      "lr 5.000000e-05 reg 5.000000e+04 train accuracy: 0.100043 val accuracy: 0.098308\n",
      "best validation accuracy achieved during cross-validation: 0.102298\n"
     ]
    }
   ],
   "source": [
    "# Use the validation set to tune hyperparameters (regularization strength and\n",
    "# learning rate). You should experiment with different ranges for the learning\n",
    "# rates and regularization strengths; if you are careful you should be able to\n",
    "# get a classification accuracy of about 0.4 on the validation set.\n",
    "learning_rates = [1e-7, 5e-5]\n",
    "regularization_strengths = [2.5e4, 5e4]\n",
    "\n",
    "# results is dictionary mapping tuples of the form\n",
    "# (learning_rate, regularization_strength) to tuples of the form\n",
    "# (training_accuracy, validation_accuracy). The accuracy is simply the fraction\n",
    "# of data points that are correctly classified.\n",
    "results = {}\n",
    "best_val = -1   # The highest validation accuracy that we have seen so far.\n",
    "best_svm = None # The LinearSVM object that achieved the highest validation rate.\n",
    "\n",
    "################################################################################\n",
    "# TODO:                                                                        #\n",
    "# Write code that chooses the best hyperparameters by tuning on the validation #\n",
    "# set. For each combination of hyperparameters, train a linear SVM on the      #\n",
    "# training set, compute its accuracy on the training and validation sets, and  #\n",
    "# store these numbers in the results dictionary. In addition, store the best   #\n",
    "# validation accuracy in best_val and the LinearSVM object that achieves this  #\n",
    "# accuracy in best_svm.                                                        #\n",
    "#                                                                              #\n",
    "# Hint: You should use a small value for num_iters as you develop your         #\n",
    "# validation code so that the SVMs don't take much time to train; once you are #\n",
    "# confident that your validation code works, you should rerun the validation   #\n",
    "# code with a larger value for num_iters.                                      #\n",
    "################################################################################\n",
    "# use list iteration to generate a list of tuples for all param combinations\n",
    "param_grid = [(lr, reg) for lr in learning_rates for reg in regularization_strengths]\n",
    "\n",
    "# now iterate through this list of tuples\n",
    "for lr, reg in param_grid:\n",
    "\n",
    "  # instantiate new model\n",
    "  model = SVM()\n",
    "\n",
    "  # train the model using SGD with the specified hyper-parameters\n",
    "  model.train(X_train, y_train, learning_rate=lr, reg=reg, num_iters=1500)\n",
    "\n",
    "  # get the predictions made by a model with the specified hyper-parameters on training\n",
    "  train_preds = model.predict(X_train)\n",
    "\n",
    "  # calculate the accuracy of the predictions on the training set\n",
    "  train_accuracy = np.mean(y_train == train_preds)\n",
    "\n",
    "  # get the preditions for the valuation set\n",
    "  val_preds = model.predict(X_val)\n",
    "\n",
    "  # calcualte accuracy of the predictions on the valuation set\n",
    "  val_accuracy = np.mean(y_val == val_preds)\n",
    "\n",
    "  # record the training and validation accruacy in the results dictionary\n",
    "  results[(lr, reg)] = (train_accuracy, val_accuracy)\n",
    "  \n",
    "  # check if we have a new best model\n",
    "  if best_val < val_accuracy:\n",
    "    best_val = val_accuracy\n",
    "    best_svm = model\n",
    "\n",
    "################################################################################\n",
    "#                              END OF YOUR CODE                                #\n",
    "################################################################################\n",
    "    \n",
    "# Print out results.\n",
    "for lr, reg in sorted(results):\n",
    "    train_accuracy, val_accuracy = results[(lr, reg)]\n",
    "    print('lr %e reg %e train accuracy: %f val accuracy: %f' % (\n",
    "                lr, reg, train_accuracy, val_accuracy))\n",
    "    \n",
    "print('best validation accuracy achieved during cross-validation: %f' % best_val)"
   ]
  },
  {
   "cell_type": "code",
   "execution_count": 18,
   "metadata": {
    "colab": {
     "base_uri": "https://localhost:8080/",
     "height": 377
    },
    "colab_type": "code",
    "id": "n7xztO16OMVx",
    "outputId": "f8463032-4833-47d7-a18c-343f3ea73220"
   },
   "outputs": [
    {
     "data": {
      "image/png": "[encoded data removed]",
      "text/plain": [
       "<Figure size 432x288 with 2 Axes>"
      ]
     },
     "metadata": {
      "needs_background": "light",
      "tags": []
     },
     "output_type": "display_data"
    },
    {
     "data": {
      "image/png": "[encoded data removed]",
      "text/plain": [
       "<Figure size 432x288 with 2 Axes>"
      ]
     },
     "metadata": {
      "needs_background": "light",
      "tags": []
     },
     "output_type": "display_data"
    }
   ],
   "source": [
    "# Visualize the cross-validation results\n",
    "import math\n",
    "x_scatter = [math.log10(x[0]) for x in results]\n",
    "y_scatter = [math.log10(x[1]) for x in results]\n",
    "\n",
    "# plot training accuracy\n",
    "marker_size = 100\n",
    "colors = [results[x][0] for x in results]\n",
    "plt.subplot(2, 1, 1)\n",
    "plt.scatter(x_scatter, y_scatter, marker_size, c=colors)\n",
    "plt.colorbar()\n",
    "plt.xlabel('log learning rate')\n",
    "plt.ylabel('log regularization strength')\n",
    "plt.title('CIFAR-10 training accuracy')\n",
    "plt.show()\n",
    "\n",
    "# plot validation accuracy\n",
    "colors = [results[x][1] for x in results] # default size of markers is 20\n",
    "plt.subplot(2, 1, 2)\n",
    "plt.scatter(x_scatter, y_scatter, marker_size, c=colors)\n",
    "plt.colorbar()\n",
    "plt.xlabel('log learning rate')\n",
    "plt.ylabel('log regularization strength')\n",
    "plt.title('CIFAR-10 validation accuracy')\n",
    "plt.show()"
   ]
  },
  {
   "cell_type": "code",
   "execution_count": 16,
   "metadata": {
    "colab": {
     "base_uri": "https://localhost:8080/",
     "height": 34
    },
    "colab_type": "code",
    "id": "z4dGOPlDOMV0",
    "outputId": "16f8045f-0290-4c72-f124-3cdb7ed6f91d"
   },
   "outputs": [
    {
     "name": "stdout",
     "output_type": "stream",
     "text": [
      "linear SVM on raw pixels final test set accuracy: 0.102489\n"
     ]
    }
   ],
   "source": [
    "# Evaluate the best svm on test set\n",
    "y_test_pred = best_svm.predict(X_test)\n",
    "test_accuracy = np.mean(y_test == y_test_pred)\n",
    "print('linear SVM on raw pixels final test set accuracy: %f' % test_accuracy)"
   ]
  },
  {
   "cell_type": "code",
   "execution_count": 17,
   "metadata": {
    "colab": {
     "base_uri": "https://localhost:8080/",
     "height": 223
    },
    "colab_type": "code",
    "id": "EWlGgq8tOMV2",
    "outputId": "0597d4b5-b3db-4e8f-c915-7dadab716401"
   },
   "outputs": [
    {
     "data": {
      "image/png": "[encoded data removed]",
      "text/plain": [
       "<Figure size 432x288 with 10 Axes>"
      ]
     },
     "metadata": {
      "needs_background": "light",
      "tags": []
     },
     "output_type": "display_data"
    }
   ],
   "source": [
    "# Visualize the learned weights for each class.\n",
    "# Depending on your choice of learning rate and regularization strength, these may\n",
    "# or may not be nice to look at.\n",
    "w = best_svm.W[:-1,:] # strip out the bias\n",
    "w = np.array(w).reshape(32, 32, 3, 10)\n",
    "w_min, w_max = np.min(w), np.max(w)\n",
    "classes = ['plane', 'car', 'bird', 'cat', 'deer', 'dog', 'frog', 'horse', 'ship', 'truck']\n",
    "for i in range(10):\n",
    "    plt.subplot(2, 5, i + 1)\n",
    "      \n",
    "    # Rescale the weights to be between 0 and 255\n",
    "    wimg = 255.0 * (w[:, :, :, i].squeeze() - w_min) / (w_max - w_min)\n",
    "    plt.imshow(wimg.astype('uint8'))\n",
    "    plt.axis('off')\n",
    "    plt.title(classes[i])"
   ]
  },
  {
   "cell_type": "markdown",
   "metadata": {
    "colab_type": "text",
    "id": "ap5rrJ5sOMV7"
   },
   "source": [
    "### Inline question 2:\n",
    "Describe what your visualized SVM weights look like, and offer a brief explanation for why they look they way that they do.\n",
    "\n",
    "**Your answer:** When visualized, the weights vector for each class represent the visual mean of all images in our training set with that class label. More specifically, these vector images are the images such that for any training example, that training example has a high probability of having the most pixels in common with the vector image associated with the training example's actual label. "
   ]
  },
  {
   "cell_type": "markdown",
   "metadata": {
    "colab_type": "text",
    "id": "Ui5JMS-OfMOb"
   },
   "source": [
    "*Many thanks to Stanford CS231n for permission to use their materials!*"
   ]
  }
 ],
 "metadata": {
  "colab": {
   "collapsed_sections": [],
   "name": "VaiSuliafu_Homework1_svm.ipynb",
   "provenance": []
  },
  "kernelspec": {
   "display_name": "Python 3",
   "language": "python",
   "name": "python3"
  },
  "language_info": {
   "codemirror_mode": {
    "name": "ipython",
    "version": 3
   },
   "file_extension": ".py",
   "mimetype": "text/x-python",
   "name": "python",
   "nbconvert_exporter": "python",
   "pygments_lexer": "ipython3",
   "version": "3.7.4"
  }
 },
 "nbformat": 4,
 "nbformat_minor": 1
}
